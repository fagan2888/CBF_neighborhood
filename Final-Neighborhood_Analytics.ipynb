{
 "cells": [
  {
   "cell_type": "markdown",
   "metadata": {
    "collapsed": true
   },
   "source": [
    "# Neighborhood Analytics\n",
    "\n",
    "Given an address of an empty location, what is the best use of the space?\n",
    "\n",
    "Using the Four Square API and IBM's DSX to create advanced analytics."
   ]
  },
  {
   "cell_type": "code",
   "execution_count": 7,
   "metadata": {
    "collapsed": true
   },
   "outputs": [],
   "source": [
    "from geopy.geocoders import Nominatim # module to convert an address into latitude and longitude values\n",
    "import requests # library to handle requests\n",
    "import pandas as pd # library for data analsysis\n",
    "import numpy as np # library to handle data in a vectorized manner\n",
    "import random # library for random number generation\n",
    "# plotting libraries\n",
    "from pandas.io.json import json_normalize\n",
    "\n",
    "import matplotlib.pyplot as plt\n",
    "%matplotlib inline"
   ]
  },
  {
   "cell_type": "code",
   "execution_count": 4,
   "metadata": {
    "collapsed": true
   },
   "outputs": [],
   "source": [
    "api_url = \"https://api.foursquare.com/v2/venues/explore\"\n",
    "\n",
    "params = {'v': '20170513',\n",
    "          'client_id': \"33D0NQYSP2AKAIEEZJNWEPSIU23UAGAXJ1EL0B1J13I4XGHC\",\n",
    "          'client_secret':\"ONNNBGVMFHQ3TVUXDVWYVWDDQSZEM42XBO23BUBGC3ZOZ2V0\",\n",
    "          'limit' :50}\n",
    "\n",
    "# location\n",
    "def lat_long(address):\n",
    "    geolocator = Nominatim()\n",
    "    location = geolocator.geocode(address)\n",
    "    longitude, latitude = location.longitude, location.latitude\n",
    "    print latitude\n",
    "    print longitude\n",
    "    return {'ll': '{},{}'.format(latitude, longitude)}"
   ]
  },
  {
   "cell_type": "markdown",
   "metadata": {},
   "source": [
    "## Make Four Square API Call"
   ]
  },
  {
   "cell_type": "code",
   "execution_count": 2,
   "metadata": {
    "collapsed": true
   },
   "outputs": [],
   "source": [
    "def fetch_venues(params, offset=0):\n",
    "    params.update({'offset':offset})\n",
    "    response = requests.get(api_url, params=params)\n",
    "    response.status_code\n",
    "    venue_data = response.json()\n",
    "    \n",
    "    # assign relevant part of JSON to venues\n",
    "    venues = venue_data[\"response\"][\"groups\"][0][\"items\"]\n",
    "    \n",
    "    if len(venues) == 0:\n",
    "        return []\n",
    "    \n",
    "\n",
    "    # tranform venues into a dataframe\n",
    "    dataframe = json_normalize(venues)\n",
    "    \n",
    "    # keep only columns that include venue name, url, and anything that is associated with location\n",
    "    filtered_columns = ['venue.name', 'venue.url', 'venue.categories'] + [col for col in dataframe.columns if col.startswith('location.')] + ['id']\n",
    "    dataframe_filtered = dataframe.ix[:, filtered_columns]\n",
    "\n",
    "    # function that extracts the category of the venue\n",
    "    def get_category_type(row):\n",
    "        try:\n",
    "            categories_list = row[\"categories\"]\n",
    "        except:\n",
    "            categories_list = row[\"venue.categories\"]\n",
    "\n",
    "        if len(categories_list) == 0:\n",
    "            return None\n",
    "        else:\n",
    "            return categories_list[0][\"name\"].encode('ascii',errors='ignore')\n",
    "\n",
    "    # filter the category for each row\n",
    "    dataframe_filtered['categories'] = dataframe_filtered.apply(get_category_type, axis=1)\n",
    "\n",
    "    # clean column names by keeping only last term\n",
    "    dataframe_filtered.columns = [column.split(\".\")[-1] for column in dataframe_filtered.columns]\n",
    "    \n",
    "    return dataframe_filtered"
   ]
  },
  {
   "cell_type": "code",
   "execution_count": 5,
   "metadata": {
    "collapsed": false
   },
   "outputs": [
    {
     "name": "stdout",
     "output_type": "stream",
     "text": [
      "40.7635464\n",
      "-73.9620774\n"
     ]
    }
   ],
   "source": [
    "#Add address to params\n",
    "address = \"1218 2nd Ave, New York, NY 10065\"\n",
    "params.update(lat_long(address))"
   ]
  },
  {
   "cell_type": "markdown",
   "metadata": {},
   "source": [
    "## Get Venue Data Around Location"
   ]
  },
  {
   "cell_type": "code",
   "execution_count": 9,
   "metadata": {
    "collapsed": true
   },
   "outputs": [],
   "source": [
    "def get_data(radius_list, params):\n",
    "    '''(list, dict) -> list of DataFrames\n",
    "    \n",
    "    Given a list of radius distances, return list of \n",
    "    DataFrames of Venues in those areas.\n",
    "    '''\n",
    "    df_list = []\n",
    "    for radius in radius_list:\n",
    "        params.update({'radius' : radius})\n",
    "        offset=0\n",
    "        venues = pd.DataFrame()\n",
    "        temp = [1]\n",
    "        #Keep fetching from API until done getting all from Four Square\n",
    "        while True:\n",
    "            temp = fetch_venues(params, offset=offset)\n",
    "            if len(temp) == 0:\n",
    "                break\n",
    "            venues = pd.concat([venues, temp])\n",
    "            offset += 50\n",
    "        venues.columns = ['name', 'url', 'list', 'id', 'categories']\n",
    "        df_list.append(venues)\n",
    "    return df_list"
   ]
  },
  {
   "cell_type": "code",
   "execution_count": 10,
   "metadata": {
    "collapsed": true
   },
   "outputs": [],
   "source": [
    "dfs = get_data([500, 1000, 5000], params)"
   ]
  },
  {
   "cell_type": "markdown",
   "metadata": {},
   "source": [
    "#### Flatten Four Square Categories into Parent Level Venue Categories"
   ]
  },
  {
   "cell_type": "code",
   "execution_count": 34,
   "metadata": {
    "collapsed": false
   },
   "outputs": [],
   "source": [
    "#Hash four square categories\n",
    "cat_list_url = 'https://api.foursquare.com/v2/venues/categories?client_id=33D0NQYSP2AKAIEEZJNWEPSIU23UAGAXJ1EL0B1J13I4XGHC&client_secret=ONNNBGVMFHQ3TVUXDVWYVWDDQSZEM42XBO23BUBGC3ZOZ2V0&v=20170512'\n",
    "\n",
    "response = requests.get(cat_list_url).json()\n",
    "cat = response['response']['categories']\n",
    "\n",
    "\n",
    "# hashing categories {top_category: [sub categories], ... }\n",
    "cats = {}\n",
    "for c in cat:\n",
    "    top = c['name']\n",
    "    cats[top] = []\n",
    "    for sub in c['categories']:\n",
    "        cats[top].append(sub['name'])"
   ]
  },
  {
   "cell_type": "code",
   "execution_count": 35,
   "metadata": {
    "collapsed": true
   },
   "outputs": [],
   "source": [
    "#Encocde each datafraem with parent category\n",
    "def apply_cat(row):\n",
    "    #cats = global hash dict\n",
    "    key_list = cats.keys()\n",
    "    if row['categories'] in key_list:\n",
    "        return row['categories']\n",
    "    for key in d:\n",
    "        if row['categories'] in cats[key]:\n",
    "            return key"
   ]
  },
  {
   "cell_type": "markdown",
   "metadata": {},
   "source": [
    "### Add Venue Category Metrics"
   ]
  },
  {
   "cell_type": "code",
   "execution_count": 37,
   "metadata": {
    "collapsed": true
   },
   "outputs": [],
   "source": [
    "#Add metrics to each df\n",
    "def add_cat_cols_to_df(df, radius_string):\n",
    "    '''Returns df with new categories\n",
    "    columns for plotting'''\n",
    "    df['parent_cat'] = df.apply(apply_cat, axis=1)\n",
    "    df['parent_freq'] = df.groupby('parent_cat')['parent_cat'].transform('count')\n",
    "    non_null_sum = len(df) - df['parent_cat'].isnull().sum()\n",
    "    df['parent_percent'] = df['parent_freq'] / non_null_sum\n",
    "    df['radius'] = radius_string\n",
    "    return df"
   ]
  },
  {
   "cell_type": "code",
   "execution_count": 38,
   "metadata": {
    "collapsed": false
   },
   "outputs": [],
   "source": [
    "dfs[0] = add_cat_cols_to_df(dfs[0], '500m')\n",
    "dfs[1] = add_cat_cols_to_df(dfs[1], '1000m')\n",
    "dfs[2] = add_cat_cols_to_df(dfs[2], '5000m')"
   ]
  },
  {
   "cell_type": "markdown",
   "metadata": {},
   "source": [
    "# Visualize Data by Venue Category"
   ]
  },
  {
   "cell_type": "code",
   "execution_count": 40,
   "metadata": {
    "collapsed": false
   },
   "outputs": [
    {
     "name": "stdout",
     "output_type": "stream",
     "text": [
      "Requirement already satisfied: seaborn in /gpfs/global_fs01/sym_shared/YPProdSpark/user/s443-f9050b605cb566-313e402d480c/.local/lib/python2.7/site-packages\r\n"
     ]
    }
   ],
   "source": [
    "!pip install seaborn"
   ]
  },
  {
   "cell_type": "code",
   "execution_count": 44,
   "metadata": {
    "collapsed": true
   },
   "outputs": [],
   "source": [
    "import seaborn as sns\n",
    "sns.set(style=\"whitegrid\", color_codes=True)\n",
    "plt.rcParams['figure.figsize']=(16,8)"
   ]
  },
  {
   "cell_type": "code",
   "execution_count": 42,
   "metadata": {
    "collapsed": true
   },
   "outputs": [],
   "source": [
    "all_df = pd.concat([dfs[0], dfs[1], dfs[2]])"
   ]
  },
  {
   "cell_type": "code",
   "execution_count": 45,
   "metadata": {
    "collapsed": false
   },
   "outputs": [],
   "source": [
    "all_df = all_df[all_df['parent_cat']!=\"College & University\"]\n",
    "all_df = all_df[all_df['parent_cat']!=\"Outdoors & Recreation\"]"
   ]
  },
  {
   "cell_type": "code",
   "execution_count": 47,
   "metadata": {
    "collapsed": false
   },
   "outputs": [
    {
     "data": {
      "text/plain": [
       "[<matplotlib.text.Text at 0x7f8f88bb1890>,\n",
       " <matplotlib.text.Text at 0x7f9037841d90>]"
      ]
     },
     "execution_count": 47,
     "metadata": {},
     "output_type": "execute_result"
    },
    {
     "data": {
      "image/png": "[encoded data removed]",
      "text/plain": [
       "<matplotlib.figure.Figure at 0x7f8fd998c710>"
      ]
     },
     "metadata": {},
     "output_type": "display_data"
    }
   ],
   "source": [
    "ax = sns.barplot(x=\"parent_cat\", y=\"parent_percent\", hue=\"radius\", data=all_df)\n",
    "sns.plt.title(\"Venue Category Density by Distance from Location\")\n",
    "ax.set(xlabel='Venue Category', ylabel='Average Venue Type')"
   ]
  },
  {
   "cell_type": "markdown",
   "metadata": {},
   "source": [
    "# Visualize by Location Density"
   ]
  },
  {
   "cell_type": "code",
   "execution_count": 48,
   "metadata": {
    "collapsed": false
   },
   "outputs": [
    {
     "name": "stdout",
     "output_type": "stream",
     "text": [
      "Requirement already satisfied: folium in /gpfs/global_fs01/sym_shared/YPProdSpark/user/s443-f9050b605cb566-313e402d480c/.local/lib/python2.7/site-packages\n",
      "Requirement already satisfied: six in /usr/local/src/bluemix_jupyter_bundle.v43/notebook/lib/python2.7/site-packages (from folium)\n",
      "Requirement already satisfied: Jinja2 in /usr/local/src/bluemix_jupyter_bundle.v43/notebook/lib/python2.7/site-packages (from folium)\n",
      "Requirement already satisfied: branca in /gpfs/global_fs01/sym_shared/YPProdSpark/user/s443-f9050b605cb566-313e402d480c/.local/lib/python2.7/site-packages (from folium)\n",
      "Requirement already satisfied: MarkupSafe in /usr/local/src/bluemix_jupyter_bundle.v43/notebook/lib/python2.7/site-packages (from Jinja2->folium)\n"
     ]
    }
   ],
   "source": [
    "!pip install folium"
   ]
  },
  {
   "cell_type": "code",
   "execution_count": 49,
   "metadata": {
    "collapsed": false
   },
   "outputs": [
    {
     "data": {
      "text/plain": [
       "<folium.map.Marker at 0x7f8f887ef450>"
      ]
     },
     "execution_count": 49,
     "metadata": {},
     "output_type": "execute_result"
    }
   ],
   "source": [
    "import folium\n",
    "\n",
    "#Address location\n",
    "map_nyc = folium.Map(location=[40.7635464,-73.9620774], zoom_start=16)\n",
    "folium.Marker([40.7635464, -73.9620774], popup = \"Location\").add_to(map_nyc)"
   ]
  },
  {
   "cell_type": "code",
   "execution_count": 63,
   "metadata": {
    "collapsed": true
   },
   "outputs": [],
   "source": [
    "#Get list of nearby venues\n",
    "def fetch_venues_ll(params, radius=200):\n",
    "    params.update({'radius': radius}) \n",
    "    response = requests.get(api_url, params=params).json()\n",
    "    totalResults = response['response']['totalResults']\n",
    "    venues = []\n",
    "    while len(venues) != totalResults:\n",
    "        venues.extend(response['response']['groups'][0]['items'])\n",
    "        params.update({'offset': params.get('offset', 0) + 50})\n",
    "        response = requests.get(api_url, params=params).json()\n",
    "    response = requests.get(api_url, params=params).json()\n",
    "\n",
    "    return venues"
   ]
  },
  {
   "cell_type": "code",
   "execution_count": 56,
   "metadata": {
    "collapsed": false
   },
   "outputs": [],
   "source": [
    "params.update({'radius':200})\n",
    "near_by = fetch_venues_ll(params)"
   ]
  },
  {
   "cell_type": "code",
   "execution_count": 57,
   "metadata": {
    "collapsed": false
   },
   "outputs": [],
   "source": [
    "#Get data about each nearby location\n",
    "locations = []\n",
    "\n",
    "for spot in near_by:\n",
    "    lat = spot['venue']['location']['lat']\n",
    "    lon = spot['venue']['location']['lng']\n",
    "    check_count = spot['venue']['stats']['checkinsCount']\n",
    "    user_count = spot['venue']['stats']['usersCount']\n",
    "    loc_cat = spot['venue']['categories'][0]['name']\n",
    "    #Encode loc_cat into category\n",
    "    locations.append((lat, lon, check_count, user_count, loc_cat))"
   ]
  },
  {
   "cell_type": "code",
   "execution_count": 60,
   "metadata": {
    "collapsed": false
   },
   "outputs": [],
   "source": [
    "def add_point(LAT, LON, CHK, USR, COLOR):\n",
    "                            folium.CircleMarker([LAT, LON], \n",
    "                            popup = 'CheckIn Count: %d\\n User Count: %d' % (CHK, USR), #text\n",
    "                            radius = 9,\n",
    "                            color = COLOR,\n",
    "                            fill_color = COLOR,\n",
    "                            fill_opacity = 0.7).add_to(map_nyc)\n",
    "\n",
    "#Colorized by category\n",
    "for LAT, LON, CHK, USR, CAT in locations:\n",
    "    if CAT.startswith(\"Italian\"):\n",
    "        add_point(LAT, LON, CHK, USR, 'blue')\n",
    "    elif CAT.endswith(\"Shop\"):\n",
    "        add_point(LAT, LON, CHK, USR, 'red')\n",
    "    elif \"Health\" in CAT or \"Gym\" in CAT or \"Dance\" in CAT:\n",
    "        add_point(LAT, LON, CHK, USR, 'yellow')\n",
    "    elif \"Hotel\" in CAT:\n",
    "        add_point(LAT, LON, CHK, USR, 'purple')\n",
    "    else:\n",
    "        add_point(LAT, LON, CHK, USR, 'green')"
   ]
  },
  {
   "cell_type": "code",
   "execution_count": 61,
   "metadata": {
    "collapsed": false
   },
   "outputs": [
    {
     "data": {
      "text/html": [
       "<div style=\"width:100%;\"><div style=\"position:relative;width:100%;height:0;padding-bottom:60%;\"><iframe src=\"data:text/html;charset=utf-8;base64,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\" style=\"position:absolute;width:100%;height:100%;left:0;top:0;border:none !important;\" allowfullscreen webkitallowfullscreen mozallowfullscreen></iframe></div></div>"
      ],
      "text/plain": [
       "<folium.folium.Map at 0x7f8f88b29490>"
      ]
     },
     "execution_count": 61,
     "metadata": {},
     "output_type": "execute_result"
    }
   ],
   "source": [
    "map_nyc"
   ]
  },
  {
   "cell_type": "markdown",
   "metadata": {},
   "source": [
    "# Next Steps\n",
    "\n",
    "### Enhancing with Four Square User Data\n",
    "- Build \"home\" location of user, see which venues they frequently travel for\n",
    "- Address user pain points - what venue do they have to travel far for on a regular basis?\n",
    "- Given \"home\" location of user, understand neighborhood population beter\n",
    "\n",
    "\n",
    "### Using Additional Data Sets\n",
    "- Government Data (Census, Public Records)\n",
    "- Google Walking Distance\n",
    "\n",
    "\n",
    "### Public Land - Secondary Use\n",
    "- Aiding government in deciding best use case for public land\n",
    "- Addressing community needs"
   ]
  },
  {
   "cell_type": "code",
   "execution_count": null,
   "metadata": {
    "collapsed": true
   },
   "outputs": [],
   "source": []
  }
 ],
 "metadata": {
  "kernelspec": {
   "display_name": "Python 2 with Spark 2.0",
   "language": "python",
   "name": "python2-spark20"
  },
  "language_info": {
   "codemirror_mode": {
    "name": "ipython",
    "version": 2
   },
   "file_extension": ".py",
   "mimetype": "text/x-python",
   "name": "python",
   "nbconvert_exporter": "python",
   "pygments_lexer": "ipython2",
   "version": "2.7.11"
  }
 },
 "nbformat": 4,
 "nbformat_minor": 0
}